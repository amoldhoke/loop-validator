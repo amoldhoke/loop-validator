{
 "cells": [
  {
   "cell_type": "code",
   "execution_count": 11,
   "id": "fdd461e4",
   "metadata": {},
   "outputs": [
    {
     "name": "stdout",
     "output_type": "stream",
     "text": [
      "PDF files have been successfully converted to C:\\Users\\Loop\\Desktop\\Process Tools\\PDF Convertor\\Output Excel\\output.xlsx\n"
     ]
    }
   ],
   "source": [
    "import tabula\n",
    "import os\n",
    "import pandas as pd\n",
    "import warnings\n",
    "\n",
    "# Input and output file paths\n",
    "input_pdf_directory = r\"C:\\Users\\Loop\\Desktop\\Process Tools\\PDF Convertor\\PDF\"\n",
    "output_excel_path = r\"C:\\Users\\Loop\\Desktop\\Process Tools\\PDF Convertor\\Output Excel\\output.xlsx\"\n",
    "\n",
    "# Ensure the output directory exists\n",
    "os.makedirs(os.path.dirname(output_excel_path), exist_ok=True)\n",
    "\n",
    "# Suppress specific FutureWarnings\n",
    "warnings.simplefilter(action='ignore', category=FutureWarning)\n",
    "\n",
    "# List to hold DataFrames from all PDF files\n",
    "all_dfs = []\n",
    "\n",
    "# Loop through all PDF files in the directory\n",
    "for file_name in os.listdir(input_pdf_directory):\n",
    "    if file_name.endswith('.pdf'):\n",
    "        input_pdf_path = os.path.join(input_pdf_directory, file_name)\n",
    "        try:\n",
    "            # Adjust the table extraction to improve data extraction accuracy\n",
    "            dfs = tabula.read_pdf(input_pdf_path, pages='all', multiple_tables=True, lattice=True, stream=False)\n",
    "            header = None\n",
    "            for i, df in enumerate(dfs):\n",
    "                # Drop empty columns\n",
    "                df = df.dropna(axis=1, how='all')\n",
    "                # Drop empty rows\n",
    "                df = df.dropna(axis=0, how='all')\n",
    "                # Reset index to avoid indexing issues\n",
    "                df.reset_index(drop=True, inplace=True)\n",
    "\n",
    "                if df.empty:\n",
    "                    continue  # Skip empty DataFrames\n",
    "\n",
    "                if header is None:\n",
    "                    header = df.columns\n",
    "                else:\n",
    "                    if len(df.columns) == len(header):\n",
    "                        df.columns = header\n",
    "                    else:\n",
    "                        print(f\"Skipping inconsistent table structure in {file_name} on page {i + 1}\")\n",
    "                        continue  # Skip inconsistent tables\n",
    "\n",
    "                # Add each cleaned DataFrame to the list\n",
    "                all_dfs.append(df)\n",
    "        except Exception as e:\n",
    "            print(f\"Error reading {input_pdf_path}: {e}\")\n",
    "\n",
    "# Combine all DataFrames into one\n",
    "if all_dfs:\n",
    "    combined_df = pd.concat(all_dfs, ignore_index=True)\n",
    "    # Save to Excel\n",
    "    combined_df.to_excel(output_excel_path, index=False)\n",
    "    print(f\"PDF files have been successfully converted to {output_excel_path}\")\n",
    "else:\n",
    "    print(\"No tables were extracted from the PDF files.\")\n"
   ]
  },
  {
   "cell_type": "code",
   "execution_count": null,
   "id": "e74d3913",
   "metadata": {},
   "outputs": [],
   "source": []
  },
  {
   "cell_type": "code",
   "execution_count": null,
   "id": "a3696a86",
   "metadata": {},
   "outputs": [],
   "source": []
  }
 ],
 "metadata": {
  "kernelspec": {
   "display_name": "Python 3 (ipykernel)",
   "language": "python",
   "name": "python3"
  },
  "language_info": {
   "codemirror_mode": {
    "name": "ipython",
    "version": 3
   },
   "file_extension": ".py",
   "mimetype": "text/x-python",
   "name": "python",
   "nbconvert_exporter": "python",
   "pygments_lexer": "ipython3",
   "version": "3.11.7"
  }
 },
 "nbformat": 4,
 "nbformat_minor": 5
}
