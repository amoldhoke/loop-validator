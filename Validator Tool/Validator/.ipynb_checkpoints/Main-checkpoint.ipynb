{
 "cells": [
  {
   "cell_type": "code",
   "execution_count": 1,
   "id": "3f6217fe",
   "metadata": {},
   "outputs": [
    {
     "name": "stdout",
     "output_type": "stream",
     "text": [
      "Processing complete.\n",
      "\n",
      "Please provide the policy option a) GMC b) GPA c) GTL: gmc\n",
      "\n",
      "Selected policy option: GMC \n",
      "\n",
      "Invalid mobile number at index 0: 9459247692/8219174754\n",
      "Invalid mobile number at index 102: 76362746577\n",
      "Process Type: Addition: No file found for Active Roster \n",
      "\n",
      "\n",
      "Process Completed\n"
     ]
    }
   ],
   "source": [
    "import sys\n",
    "import os\n",
    "\n",
    "# Get the current working directory\n",
    "current_dir = os.getcwd()\n",
    "\n",
    "# Get the directory path of the module\n",
    "module_path = os.path.join(current_dir, 'DO NOT TOUCH')\n",
    "\n",
    "# Add the module path to sys.path\n",
    "if module_path not in sys.path:\n",
    "    sys.path.append(module_path)\n",
    "\n",
    "\n",
    "import file_processor\n",
    "from file_cleaner import process_files\n",
    "\n",
    "# Initial Process path\n",
    "# Input path\n",
    "directory_path_ = r'C:/Users/Loop/Desktop/Process Tools/Validator Tool/Input File/Initial Process/'\n",
    "\n",
    "# Output Path\n",
    "output_directory_path_ = r'C:/Users/Loop/Desktop/Process Tools/Validator Tool/Input File/Initial Process/Output/'\n",
    "\n",
    "\n",
    "# Main File\n",
    "directory_path = r'C:/Users/Loop/Desktop/Process Tools/Validator Tool/Input File/Initial Process/Output/'\n",
    "# Genome File\n",
    "directory_path_B = r'C:/Users/Loop/Desktop/Process Tools/Validator Tool/Input File/Member Details/'\n",
    "# Active Roster\n",
    "directory_path_C = r'C:/Users/Loop/Desktop/Process Tools/Validator Tool/Input File/Active Roster'\n",
    "\n",
    "# Output Path\n",
    "output_directory_path = r'C:/Users/Loop/Desktop/Process Tools/Validator Tool/Output/'\n",
    "\n",
    "\n",
    "# Process the files\n",
    "process_files(directory_path_, output_directory_path_)\n",
    "\n",
    "\n",
    "# Create a list of all the paths and the policy option\n",
    "paths_and_option = [directory_path, \n",
    "                    directory_path_B, \n",
    "                    directory_path_C,  \n",
    "                    output_directory_path, \n",
    "                    directory_path_]\n",
    "\n",
    "file_processor.main(*paths_and_option)\n"
   ]
  },
  {
   "cell_type": "code",
   "execution_count": null,
   "id": "1b41e4b1",
   "metadata": {},
   "outputs": [],
   "source": []
  },
  {
   "cell_type": "code",
   "execution_count": null,
   "id": "fe71f6c1",
   "metadata": {},
   "outputs": [],
   "source": []
  },
  {
   "cell_type": "code",
   "execution_count": null,
   "id": "7bf5943c",
   "metadata": {},
   "outputs": [],
   "source": []
  },
  {
   "cell_type": "code",
   "execution_count": null,
   "id": "5c6ad804",
   "metadata": {},
   "outputs": [],
   "source": []
  },
  {
   "cell_type": "code",
   "execution_count": null,
   "id": "aced2d04",
   "metadata": {},
   "outputs": [],
   "source": []
  },
  {
   "cell_type": "code",
   "execution_count": null,
   "id": "30717901",
   "metadata": {},
   "outputs": [],
   "source": []
  },
  {
   "cell_type": "code",
   "execution_count": null,
   "id": "95190ca5",
   "metadata": {},
   "outputs": [],
   "source": []
  }
 ],
 "metadata": {
  "kernelspec": {
   "display_name": "Python 3 (ipykernel)",
   "language": "python",
   "name": "python3"
  },
  "language_info": {
   "codemirror_mode": {
    "name": "ipython",
    "version": 3
   },
   "file_extension": ".py",
   "mimetype": "text/x-python",
   "name": "python",
   "nbconvert_exporter": "python",
   "pygments_lexer": "ipython3",
   "version": "3.11.7"
  }
 },
 "nbformat": 4,
 "nbformat_minor": 5
}
